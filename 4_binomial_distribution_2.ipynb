{
 "cells": [
  {
   "cell_type": "markdown",
   "metadata": {},
   "source": [
    "https://www.hackerrank.com/challenges/s10-binomial-distribution-2/problem"
   ]
  },
  {
   "cell_type": "code",
   "execution_count": 2,
   "metadata": {},
   "outputs": [],
   "source": [
    "def factorial(a):\n",
    "    return 1 if a==0 else a*factorial(a-1)"
   ]
  },
  {
   "cell_type": "code",
   "execution_count": 3,
   "metadata": {},
   "outputs": [],
   "source": [
    "def combinatorics(n, x):\n",
    "    # n!/x!(n-x)!\n",
    "    return factorial(n)/(factorial(x)*factorial(n-x))"
   ]
  },
  {
   "cell_type": "code",
   "execution_count": 4,
   "metadata": {},
   "outputs": [],
   "source": [
    "def binomial(x, n, p):\n",
    "    return combinatorics(n, x)*(p**x)*((1-p)**(n-x))"
   ]
  },
  {
   "cell_type": "code",
   "execution_count": 9,
   "metadata": {},
   "outputs": [
    {
     "name": "stdout",
     "output_type": "stream",
     "text": [
      "0.891\n",
      "0.342\n"
     ]
    }
   ],
   "source": [
    "def solution(X):\n",
    "    p = X[0]/100\n",
    "    # no more than 2 rejects\n",
    "    sum_no_more_than_2 = 0\n",
    "    for i in range(0, 3):\n",
    "        sum_no_more_than_2 += binomial(i, X[1], p)\n",
    "    print (round(sum_no_more_than_2, 3))\n",
    "    # no more than 2 rejects\n",
    "    sum_at_least_2 = 0\n",
    "    for i in range(2, 11):\n",
    "        sum_at_least_2 += binomial(i, X[1], p)\n",
    "    print (round(sum_at_least_2, 3))\n",
    "\n",
    "# X = [float(x) for x in input().split(\" \")]\n",
    "X = [12, 10]\n",
    "solution(X)"
   ]
  },
  {
   "cell_type": "markdown",
   "metadata": {},
   "source": [
    "## Complete"
   ]
  },
  {
   "cell_type": "code",
   "execution_count": null,
   "metadata": {},
   "outputs": [],
   "source": [
    "# Enter your code here. Read input from STDIN. Print output to STDOUT\n",
    "def factorial(a):\n",
    "    return 1 if a==0 else a*factorial(a-1)\n",
    "\n",
    "def combinatorics(n, x):\n",
    "    # n!/x!(n-x)!\n",
    "    return factorial(n)/(factorial(x)*factorial(n-x))\n",
    "    \n",
    "def binomial(x, n, p):\n",
    "    return combinatorics(n, x)*(p**x)*((1-p)**(n-x))\n",
    "\n",
    "def solution(X):\n",
    "    p = X[0]/100\n",
    "    # no more than 2 rejects\n",
    "    sum_no_more_than_2 = 0\n",
    "    for i in range(0, 3):\n",
    "        sum_no_more_than_2 += binomial(i, X[1], p)\n",
    "    print (round(sum_no_more_than_2, 3))\n",
    "    # no more than 2 rejects\n",
    "    sum_at_least_2 = 0\n",
    "    for i in range(2, 11):\n",
    "        sum_at_least_2 += binomial(i, X[1], p)\n",
    "    print (round(sum_at_least_2, 3))\n",
    "\n",
    "X = [float(x) for x in input().split(\" \")]\n",
    "# X = [12, 10]\n",
    "solution(X)"
   ]
  }
 ],
 "metadata": {
  "kernelspec": {
   "display_name": "Python 3",
   "language": "python",
   "name": "python3"
  },
  "language_info": {
   "codemirror_mode": {
    "name": "ipython",
    "version": 3
   },
   "file_extension": ".py",
   "mimetype": "text/x-python",
   "name": "python",
   "nbconvert_exporter": "python",
   "pygments_lexer": "ipython3",
   "version": "3.8.5"
  }
 },
 "nbformat": 4,
 "nbformat_minor": 4
}
