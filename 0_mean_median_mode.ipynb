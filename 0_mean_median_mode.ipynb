{
 "cells": [
  {
   "cell_type": "markdown",
   "metadata": {},
   "source": [
    "## Brute Force"
   ]
  },
  {
   "cell_type": "code",
   "execution_count": 1,
   "metadata": {},
   "outputs": [
    {
     "name": "stdin",
     "output_type": "stream",
     "text": [
      " 10\n",
      " 64630 11735 14216 99233 14470 4978 73429 38120 51135 67060\n"
     ]
    },
    {
     "name": "stdout",
     "output_type": "stream",
     "text": [
      "43900.6\n",
      "44627.5\n",
      "4978\n"
     ]
    }
   ],
   "source": [
    "# Enter your code here. Read input from STDIN. Print output to STDOUT\n",
    "N = int(input())\n",
    "raw_X = input()\n",
    "X = []\n",
    "for x in raw_X.split(\" \"):\n",
    "    X.append(int(x))\n",
    "\n",
    "# mean\n",
    "sum_ = 0\n",
    "for x in X:\n",
    "    sum_ = sum_ +  x\n",
    "print ('%.1f'%(sum_/N))\n",
    "\n",
    "# median\n",
    "X.sort()\n",
    "if len(X)%2==0:\n",
    "    median = (X[(len(X)//2)-1]+X[len(X)//2])/2\n",
    "else:\n",
    "    median = X[len(X)//2]\n",
    "\n",
    "print ('%.1f'%median)\n",
    "\n",
    "# mode\n",
    "mode_list = []\n",
    "for i in X:\n",
    "    mode_list.append(X.count(i))\n",
    "    \n",
    "mode = X[mode_list.index(max(mode_list))]\n",
    "print (mode)\n",
    "    \n"
   ]
  },
  {
   "cell_type": "code",
   "execution_count": 8,
   "metadata": {},
   "outputs": [],
   "source": [
    "test1 = [x for x in range(101)]"
   ]
  },
  {
   "cell_type": "markdown",
   "metadata": {},
   "source": [
    "## Difference between plus equals and equals plus"
   ]
  },
  {
   "cell_type": "code",
   "execution_count": 9,
   "metadata": {},
   "outputs": [
    {
     "name": "stdout",
     "output_type": "stream",
     "text": [
      "5050\n"
     ]
    }
   ],
   "source": [
    "sum_ = 0\n",
    "for x in test1:\n",
    "    sum_ += x\n",
    "print (sum_)"
   ]
  },
  {
   "cell_type": "code",
   "execution_count": 10,
   "metadata": {},
   "outputs": [
    {
     "name": "stdout",
     "output_type": "stream",
     "text": [
      "100\n"
     ]
    }
   ],
   "source": [
    "sum_ = 0\n",
    "for x in test1:\n",
    "    sum_ =+ x\n",
    "print (sum_)"
   ]
  },
  {
   "cell_type": "markdown",
   "metadata": {},
   "source": [
    "## Better solutions"
   ]
  },
  {
   "cell_type": "code",
   "execution_count": null,
   "metadata": {},
   "outputs": [],
   "source": []
  }
 ],
 "metadata": {
  "kernelspec": {
   "display_name": "Python 3",
   "language": "python",
   "name": "python3"
  },
  "language_info": {
   "codemirror_mode": {
    "name": "ipython",
    "version": 3
   },
   "file_extension": ".py",
   "mimetype": "text/x-python",
   "name": "python",
   "nbconvert_exporter": "python",
   "pygments_lexer": "ipython3",
   "version": "3.8.5"
  }
 },
 "nbformat": 4,
 "nbformat_minor": 4
}
