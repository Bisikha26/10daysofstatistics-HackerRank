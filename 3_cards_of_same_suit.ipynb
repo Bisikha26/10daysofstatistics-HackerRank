{
 "cells": [
  {
   "cell_type": "code",
   "execution_count": 35,
   "metadata": {},
   "outputs": [],
   "source": [
    "import random"
   ]
  },
  {
   "cell_type": "code",
   "execution_count": 36,
   "metadata": {},
   "outputs": [],
   "source": [
    "card = [\"A\" for x in range(0, 13)] + [\"B\" for x in range(0, 13)] + [\"C\" for x in range(0, 13)] + [\"D\" for x in range(0, 13)]"
   ]
  },
  {
   "cell_type": "code",
   "execution_count": 37,
   "metadata": {},
   "outputs": [
    {
     "name": "stdout",
     "output_type": "stream",
     "text": [
      "0.23519\n"
     ]
    }
   ],
   "source": [
    "matches = 0\n",
    "for i in range(100000):\n",
    "    deck = card.copy()\n",
    "    first = random.choice(deck)\n",
    "    deck.remove(first)\n",
    "    second = random.choice(deck)\n",
    "    if (first==second):\n",
    "        matches += 1\n",
    "print (matches/100000)"
   ]
  }
 ],
 "metadata": {
  "kernelspec": {
   "display_name": "Python 3",
   "language": "python",
   "name": "python3"
  },
  "language_info": {
   "codemirror_mode": {
    "name": "ipython",
    "version": 3
   },
   "file_extension": ".py",
   "mimetype": "text/x-python",
   "name": "python",
   "nbconvert_exporter": "python",
   "pygments_lexer": "ipython3",
   "version": "3.8.5"
  }
 },
 "nbformat": 4,
 "nbformat_minor": 4
}
