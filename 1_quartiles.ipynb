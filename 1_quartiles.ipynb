{
 "cells": [
  {
   "cell_type": "code",
   "execution_count": 17,
   "metadata": {},
   "outputs": [
    {
     "name": "stdin",
     "output_type": "stream",
     "text": [
      " 5\n",
      " 1 2 3 4 5\n"
     ]
    },
    {
     "name": "stdout",
     "output_type": "stream",
     "text": [
      "1.5\n",
      "3\n",
      "4.5\n"
     ]
    }
   ],
   "source": [
    "def median(X):\n",
    "    if len(X)%2!=0:\n",
    "        return X[len(X)//2]\n",
    "    return (X[(len(X)//2)-1]+X[len(X)//2])/2\n",
    "    \n",
    "def solution(N, X):\n",
    "    q1 = median(X[:len(X)//2])\n",
    "    q2 = median(X)\n",
    "    if N%2==0:\n",
    "        q3 = median(X[len(X)//2:])\n",
    "    else:\n",
    "        q3 = median(X[len(X)//2+1:])\n",
    "    print (int(q1))\n",
    "    print (int(q2))\n",
    "    print (int(q3))\n",
    "\n",
    "N = int(input())\n",
    "X = [int(x) for x in input().split(\" \")]\n",
    "X.sort()\n",
    "solution(N, X)"
   ]
  },
  {
   "cell_type": "code",
   "execution_count": null,
   "metadata": {},
   "outputs": [],
   "source": []
  }
 ],
 "metadata": {
  "kernelspec": {
   "display_name": "Python 3",
   "language": "python",
   "name": "python3"
  },
  "language_info": {
   "codemirror_mode": {
    "name": "ipython",
    "version": 3
   },
   "file_extension": ".py",
   "mimetype": "text/x-python",
   "name": "python",
   "nbconvert_exporter": "python",
   "pygments_lexer": "ipython3",
   "version": "3.8.5"
  }
 },
 "nbformat": 4,
 "nbformat_minor": 4
}
