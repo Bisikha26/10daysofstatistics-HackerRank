{
 "cells": [
  {
   "cell_type": "code",
   "execution_count": 49,
   "metadata": {},
   "outputs": [
    {
     "name": "stdin",
     "output_type": "stream",
     "text": [
      " 4\n",
      " 1 2 3 4\n",
      " 4 3 3 1\n"
     ]
    },
    {
     "name": "stdout",
     "output_type": "stream",
     "text": [
      "2.0\n"
     ]
    }
   ],
   "source": [
    "def median(X):\n",
    "    if len(X)%2!=0:\n",
    "        return X[len(X)//2]\n",
    "    return (X[(len(X)//2)-1]+X[len(X)//2])/2\n",
    "    \n",
    "def prev_solution(N, X):\n",
    "    q1 = median(X[:len(X)//2])\n",
    "    q2 = median(X)\n",
    "    if N%2==0:\n",
    "        q3 = median(X[len(X)//2:])\n",
    "    else:\n",
    "        q3 = median(X[len(X)//2+1:])\n",
    "    return q3-q1\n",
    "\n",
    "def solution(N, X, F):\n",
    "    dataset = []\n",
    "    for i in range(N):\n",
    "        dataset.extend([X[i] for _ in range(F[i])])\n",
    "    dataset.sort()\n",
    "    print('%.1f'%prev_solution(len(dataset), dataset))\n",
    "    \n",
    "\n",
    "N = int(input())\n",
    "X = [int(x) for x in input().split(\" \")]\n",
    "F = [int(x) for x in input().split(\" \")]\n",
    "solution(N, X, F)"
   ]
  },
  {
   "cell_type": "code",
   "execution_count": 45,
   "metadata": {},
   "outputs": [
    {
     "name": "stdout",
     "output_type": "stream",
     "text": [
      "1.0\n"
     ]
    }
   ],
   "source": [
    "solution(2, [1,2], [10,10])"
   ]
  },
  {
   "cell_type": "code",
   "execution_count": null,
   "metadata": {},
   "outputs": [],
   "source": []
  }
 ],
 "metadata": {
  "kernelspec": {
   "display_name": "Python 3",
   "language": "python",
   "name": "python3"
  },
  "language_info": {
   "codemirror_mode": {
    "name": "ipython",
    "version": 3
   },
   "file_extension": ".py",
   "mimetype": "text/x-python",
   "name": "python",
   "nbconvert_exporter": "python",
   "pygments_lexer": "ipython3",
   "version": "3.8.5"
  }
 },
 "nbformat": 4,
 "nbformat_minor": 4
}
