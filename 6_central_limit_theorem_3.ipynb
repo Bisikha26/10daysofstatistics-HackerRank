{
 "cells": [
  {
   "cell_type": "markdown",
   "metadata": {},
   "source": [
    "https://www.hackerrank.com/challenges/s10-the-central-limit-theorem-3/problem"
   ]
  },
  {
   "cell_type": "code",
   "execution_count": null,
   "metadata": {},
   "outputs": [],
   "source": [
    "samples = float(input())\n",
    "mean = float(input())\n",
    "sd = float(input())\n",
    "interval = float(input())\n",
    "z = float (input())\n",
    "\n",
    "sd_sample = sd / (samples**0.5)\n",
    "print(round(mean - sd_sample*z,2))\n",
    "print(round(mean + sd_sample*z,2))"
   ]
  }
 ],
 "metadata": {
  "kernelspec": {
   "display_name": "Python 3",
   "language": "python",
   "name": "python3"
  },
  "language_info": {
   "codemirror_mode": {
    "name": "ipython",
    "version": 3
   },
   "file_extension": ".py",
   "mimetype": "text/x-python",
   "name": "python",
   "nbconvert_exporter": "python",
   "pygments_lexer": "ipython3",
   "version": "3.8.5"
  }
 },
 "nbformat": 4,
 "nbformat_minor": 4
}
