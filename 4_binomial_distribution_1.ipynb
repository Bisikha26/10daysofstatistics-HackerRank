{
 "cells": [
  {
   "cell_type": "markdown",
   "metadata": {},
   "source": [
    "https://www.hackerrank.com/challenges/s10-binomial-distribution-1/problem"
   ]
  },
  {
   "cell_type": "code",
   "execution_count": 8,
   "metadata": {},
   "outputs": [],
   "source": [
    "def factorial(a):\n",
    "    return 1 if a==0 else a*factorial(a-1)"
   ]
  },
  {
   "cell_type": "code",
   "execution_count": 9,
   "metadata": {},
   "outputs": [],
   "source": [
    "def combinatorics(n, x):\n",
    "    # n!/x!(n-x)!\n",
    "    return factorial(n)/(factorial(x)*factorial(n-x))"
   ]
  },
  {
   "cell_type": "code",
   "execution_count": 10,
   "metadata": {},
   "outputs": [],
   "source": [
    "def binomial(x, n, p):\n",
    "    return combinatorics(n, x)*(p**x)*((1-p)**(n-x))"
   ]
  },
  {
   "cell_type": "code",
   "execution_count": 11,
   "metadata": {},
   "outputs": [
    {
     "name": "stdin",
     "output_type": "stream",
     "text": [
      " 1.09 1\n"
     ]
    },
    {
     "name": "stdout",
     "output_type": "stream",
     "text": [
      "0.521531100478469\n",
      "0\n",
      "0.3107647656395735\n",
      "0.5648149615499249\n",
      "0.6755808469668382\n",
      "0.696\n"
     ]
    }
   ],
   "source": [
    "def solution(X):\n",
    "    b_r = X[0]\n",
    "    g_r = X[1]\n",
    "    b_p = b_r/(b_r+g_r)\n",
    "    # at least three\n",
    "    sum_ = 0\n",
    "    for i in range(3, 7):\n",
    "        print (sum_)\n",
    "        sum_ += binomial(i, 6, b_p)\n",
    "    return sum_\n",
    "\n",
    "X = [float(x) for x in input().split(\" \")]\n",
    "print (round(solution(X), 3))"
   ]
  },
  {
   "cell_type": "markdown",
   "metadata": {},
   "source": [
    "## Complete"
   ]
  },
  {
   "cell_type": "code",
   "execution_count": null,
   "metadata": {},
   "outputs": [],
   "source": [
    "# Enter your code here. Read input from STDIN. Print output to STDOUT\n",
    "\n",
    "def factorial(a):\n",
    "    temp = 1\n",
    "    for i in range(1, a+1):\n",
    "        temp *= i\n",
    "    return temp\n",
    "    \n",
    "def combinatorics(n, x):\n",
    "    # n!/x!(n-x)!\n",
    "    return factorial(n)/(factorial(x)*factorial(n-x))\n",
    "    \n",
    "def binomial(x, n, p):\n",
    "    return combinatorics(n, x)*(p**x)*((1-p)**(n-x))\n",
    "    \n",
    "def solution(X):\n",
    "    b_r = X[0]\n",
    "    g_r = X[1]\n",
    "    b_p = b_r/(b_r+g_r)\n",
    "\n",
    "    # at least three\n",
    "    sum_ = 0\n",
    "    for i in range(3, 7):\n",
    "        sum_ += binomial(i, 6, b_p)\n",
    "    return sum_\n",
    "\n",
    "X = [float(x) for x in input().split(\" \")]\n",
    "print (\"%.3f\"%solution(X))\n"
   ]
  }
 ],
 "metadata": {
  "kernelspec": {
   "display_name": "Python 3",
   "language": "python",
   "name": "python3"
  },
  "language_info": {
   "codemirror_mode": {
    "name": "ipython",
    "version": 3
   },
   "file_extension": ".py",
   "mimetype": "text/x-python",
   "name": "python",
   "nbconvert_exporter": "python",
   "pygments_lexer": "ipython3",
   "version": "3.8.5"
  }
 },
 "nbformat": 4,
 "nbformat_minor": 4
}
